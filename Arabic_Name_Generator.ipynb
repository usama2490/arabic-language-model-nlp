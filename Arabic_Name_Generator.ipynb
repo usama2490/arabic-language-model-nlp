{
  "cells": [
    {
      "cell_type": "markdown",
      "metadata": {
        "id": "iNfSAc8WeJtA"
      },
      "source": [
        "# Generating Arabic Names with a Character-Level Neural Network\n"
      ]
    },
    {
      "cell_type": "markdown",
      "metadata": {
        "id": "McyjEsxgeJtR"
      },
      "source": [
        "This notebook demonstrates the process of generating plausible Arabic names using a character-level neural network model implemented in PyTorch.\n",
        "We will train a simple model on a combined list of common Arabic male and female first names to learn the patterns of character sequences.\n",
        "The goal is to generate new names that resemble the structure and style of authentic Arabic names found in the training data."
      ]
    },
    {
      "cell_type": "markdown",
      "metadata": {
        "id": "Q_cUiVvveJtR"
      },
      "source": [
        "### 1. Data Preparation\n",
        "\n",
        "First, we need to load our dataset of Arabic names. We'll read names from two separate files, one for male names and one for female names, and combine them into a single list. We will also perform basic cleaning like removing duplicates and empty strings."
      ]
    },
    {
      "cell_type": "code",
      "source": [
        "from google.colab import files\n",
        "uploaded = files.upload()\n",
        "\n",
        "# Get the actual file names from the upload dictionary\n",
        "male_file = 'male_arabic_names.txt'\n",
        "female_file = 'female_arabic_names.txt'\n",
        "\n",
        "# Function to read names from a file\n",
        "def load_names(filename):\n",
        "    try:\n",
        "        with open(filename, 'r', encoding='utf-8') as f:\n",
        "            names = f.read().splitlines()\n",
        "        names = [name.strip() for name in names if name.strip()]\n",
        "        return names\n",
        "    except FileNotFoundError:\n",
        "        print(f\"Error: File not found at {filename}\")\n",
        "        return []\n",
        "\n",
        "# Now pass file names, not contents\n",
        "male_names = load_names(male_file)\n",
        "female_names = load_names(female_file)\n"
      ],
      "metadata": {
        "colab": {
          "base_uri": "https://localhost:8080/",
          "height": 113
        },
        "id": "v631DabNf1QO",
        "outputId": "2233455e-dc49-47a4-bdf0-e1a0adfde174"
      },
      "execution_count": 6,
      "outputs": [
        {
          "output_type": "display_data",
          "data": {
            "text/plain": [
              "<IPython.core.display.HTML object>"
            ],
            "text/html": [
              "\n",
              "     <input type=\"file\" id=\"files-c588e130-1797-4fe2-9c37-0e198f9c2a35\" name=\"files[]\" multiple disabled\n",
              "        style=\"border:none\" />\n",
              "     <output id=\"result-c588e130-1797-4fe2-9c37-0e198f9c2a35\">\n",
              "      Upload widget is only available when the cell has been executed in the\n",
              "      current browser session. Please rerun this cell to enable.\n",
              "      </output>\n",
              "      <script>// Copyright 2017 Google LLC\n",
              "//\n",
              "// Licensed under the Apache License, Version 2.0 (the \"License\");\n",
              "// you may not use this file except in compliance with the License.\n",
              "// You may obtain a copy of the License at\n",
              "//\n",
              "//      http://www.apache.org/licenses/LICENSE-2.0\n",
              "//\n",
              "// Unless required by applicable law or agreed to in writing, software\n",
              "// distributed under the License is distributed on an \"AS IS\" BASIS,\n",
              "// WITHOUT WARRANTIES OR CONDITIONS OF ANY KIND, either express or implied.\n",
              "// See the License for the specific language governing permissions and\n",
              "// limitations under the License.\n",
              "\n",
              "/**\n",
              " * @fileoverview Helpers for google.colab Python module.\n",
              " */\n",
              "(function(scope) {\n",
              "function span(text, styleAttributes = {}) {\n",
              "  const element = document.createElement('span');\n",
              "  element.textContent = text;\n",
              "  for (const key of Object.keys(styleAttributes)) {\n",
              "    element.style[key] = styleAttributes[key];\n",
              "  }\n",
              "  return element;\n",
              "}\n",
              "\n",
              "// Max number of bytes which will be uploaded at a time.\n",
              "const MAX_PAYLOAD_SIZE = 100 * 1024;\n",
              "\n",
              "function _uploadFiles(inputId, outputId) {\n",
              "  const steps = uploadFilesStep(inputId, outputId);\n",
              "  const outputElement = document.getElementById(outputId);\n",
              "  // Cache steps on the outputElement to make it available for the next call\n",
              "  // to uploadFilesContinue from Python.\n",
              "  outputElement.steps = steps;\n",
              "\n",
              "  return _uploadFilesContinue(outputId);\n",
              "}\n",
              "\n",
              "// This is roughly an async generator (not supported in the browser yet),\n",
              "// where there are multiple asynchronous steps and the Python side is going\n",
              "// to poll for completion of each step.\n",
              "// This uses a Promise to block the python side on completion of each step,\n",
              "// then passes the result of the previous step as the input to the next step.\n",
              "function _uploadFilesContinue(outputId) {\n",
              "  const outputElement = document.getElementById(outputId);\n",
              "  const steps = outputElement.steps;\n",
              "\n",
              "  const next = steps.next(outputElement.lastPromiseValue);\n",
              "  return Promise.resolve(next.value.promise).then((value) => {\n",
              "    // Cache the last promise value to make it available to the next\n",
              "    // step of the generator.\n",
              "    outputElement.lastPromiseValue = value;\n",
              "    return next.value.response;\n",
              "  });\n",
              "}\n",
              "\n",
              "/**\n",
              " * Generator function which is called between each async step of the upload\n",
              " * process.\n",
              " * @param {string} inputId Element ID of the input file picker element.\n",
              " * @param {string} outputId Element ID of the output display.\n",
              " * @return {!Iterable<!Object>} Iterable of next steps.\n",
              " */\n",
              "function* uploadFilesStep(inputId, outputId) {\n",
              "  const inputElement = document.getElementById(inputId);\n",
              "  inputElement.disabled = false;\n",
              "\n",
              "  const outputElement = document.getElementById(outputId);\n",
              "  outputElement.innerHTML = '';\n",
              "\n",
              "  const pickedPromise = new Promise((resolve) => {\n",
              "    inputElement.addEventListener('change', (e) => {\n",
              "      resolve(e.target.files);\n",
              "    });\n",
              "  });\n",
              "\n",
              "  const cancel = document.createElement('button');\n",
              "  inputElement.parentElement.appendChild(cancel);\n",
              "  cancel.textContent = 'Cancel upload';\n",
              "  const cancelPromise = new Promise((resolve) => {\n",
              "    cancel.onclick = () => {\n",
              "      resolve(null);\n",
              "    };\n",
              "  });\n",
              "\n",
              "  // Wait for the user to pick the files.\n",
              "  const files = yield {\n",
              "    promise: Promise.race([pickedPromise, cancelPromise]),\n",
              "    response: {\n",
              "      action: 'starting',\n",
              "    }\n",
              "  };\n",
              "\n",
              "  cancel.remove();\n",
              "\n",
              "  // Disable the input element since further picks are not allowed.\n",
              "  inputElement.disabled = true;\n",
              "\n",
              "  if (!files) {\n",
              "    return {\n",
              "      response: {\n",
              "        action: 'complete',\n",
              "      }\n",
              "    };\n",
              "  }\n",
              "\n",
              "  for (const file of files) {\n",
              "    const li = document.createElement('li');\n",
              "    li.append(span(file.name, {fontWeight: 'bold'}));\n",
              "    li.append(span(\n",
              "        `(${file.type || 'n/a'}) - ${file.size} bytes, ` +\n",
              "        `last modified: ${\n",
              "            file.lastModifiedDate ? file.lastModifiedDate.toLocaleDateString() :\n",
              "                                    'n/a'} - `));\n",
              "    const percent = span('0% done');\n",
              "    li.appendChild(percent);\n",
              "\n",
              "    outputElement.appendChild(li);\n",
              "\n",
              "    const fileDataPromise = new Promise((resolve) => {\n",
              "      const reader = new FileReader();\n",
              "      reader.onload = (e) => {\n",
              "        resolve(e.target.result);\n",
              "      };\n",
              "      reader.readAsArrayBuffer(file);\n",
              "    });\n",
              "    // Wait for the data to be ready.\n",
              "    let fileData = yield {\n",
              "      promise: fileDataPromise,\n",
              "      response: {\n",
              "        action: 'continue',\n",
              "      }\n",
              "    };\n",
              "\n",
              "    // Use a chunked sending to avoid message size limits. See b/62115660.\n",
              "    let position = 0;\n",
              "    do {\n",
              "      const length = Math.min(fileData.byteLength - position, MAX_PAYLOAD_SIZE);\n",
              "      const chunk = new Uint8Array(fileData, position, length);\n",
              "      position += length;\n",
              "\n",
              "      const base64 = btoa(String.fromCharCode.apply(null, chunk));\n",
              "      yield {\n",
              "        response: {\n",
              "          action: 'append',\n",
              "          file: file.name,\n",
              "          data: base64,\n",
              "        },\n",
              "      };\n",
              "\n",
              "      let percentDone = fileData.byteLength === 0 ?\n",
              "          100 :\n",
              "          Math.round((position / fileData.byteLength) * 100);\n",
              "      percent.textContent = `${percentDone}% done`;\n",
              "\n",
              "    } while (position < fileData.byteLength);\n",
              "  }\n",
              "\n",
              "  // All done.\n",
              "  yield {\n",
              "    response: {\n",
              "      action: 'complete',\n",
              "    }\n",
              "  };\n",
              "}\n",
              "\n",
              "scope.google = scope.google || {};\n",
              "scope.google.colab = scope.google.colab || {};\n",
              "scope.google.colab._files = {\n",
              "  _uploadFiles,\n",
              "  _uploadFilesContinue,\n",
              "};\n",
              "})(self);\n",
              "</script> "
            ]
          },
          "metadata": {}
        },
        {
          "output_type": "stream",
          "name": "stdout",
          "text": [
            "Saving female_arabic_names.txt to female_arabic_names (2).txt\n",
            "Saving male_arabic_names.txt to male_arabic_names (2).txt\n"
          ]
        }
      ]
    },
    {
      "cell_type": "code",
      "execution_count": 7,
      "metadata": {
        "colab": {
          "base_uri": "https://localhost:8080/"
        },
        "id": "_bGaKGZZeJtR",
        "outputId": "c6c04ac2-3685-4583-ec50-f856db8745f9"
      },
      "outputs": [
        {
          "output_type": "stream",
          "name": "stdout",
          "text": [
            "Loaded 223 male names.\n",
            "Loaded 230 female names.\n",
            "Total unique names: 452\n",
            "First 10 names in the combined list:\n",
            "['ياسر', 'ناصر', 'ممدوح', 'رشا', 'بيان', 'سارة', 'حمدان', 'نعمان', 'تحفة', 'مأمون']\n"
          ]
        }
      ],
      "source": [
        "# Import necessary libraries\n",
        "import torch\n",
        "import torch.nn.functional as F\n",
        "import matplotlib.pyplot as plt # for plotting\n",
        "import random\n",
        "\n",
        "\n",
        "# Combine the lists\n",
        "arabic_names = male_names + female_names\n",
        "\n",
        "# Remove duplicates and ensure uniqueness\n",
        "arabic_names = sorted(list(set(arabic_names)))\n",
        "\n",
        "# Shuffle the dataset for good measure\n",
        "random.shuffle(arabic_names)\n",
        "\n",
        "if arabic_names: # Proceed only if names were loaded\n",
        "    print(f'Loaded {len(male_names)} male names.')\n",
        "    print(f'Loaded {len(female_names)} female names.')\n",
        "    print(f'Total unique names: {len(arabic_names)}')\n",
        "    print('First 10 names in the combined list:')\n",
        "    print(arabic_names[:10])\n",
        "else:\n",
        "    print('No names loaded. Please check file paths and content.')"
      ]
    },
    {
      "cell_type": "markdown",
      "metadata": {
        "id": "Bb1BoArOeJtR"
      },
      "source": [
        "### 2. Dataset Exploration\n",
        "\n",
        "Let's look at some basic statistics of our combined dataset, such as the number of names, and the shortest and longest names."
      ]
    },
    {
      "cell_type": "code",
      "execution_count": 8,
      "metadata": {
        "colab": {
          "base_uri": "https://localhost:8080/"
        },
        "id": "FxqidlYAeJtR",
        "outputId": "4e8c7600-0ba6-4a22-e044-d4dfb55ded3a"
      },
      "outputs": [
        {
          "output_type": "stream",
          "name": "stdout",
          "text": [
            "Number of names: 452\n",
            "Shortest name length: 2\n",
            "Longest name length: 10\n"
          ]
        }
      ],
      "source": [
        "# Calculate basic statistics only if names are loaded\n",
        "if arabic_names:\n",
        "    num_names = len(arabic_names)\n",
        "    min_len = min(len(w) for w in arabic_names)\n",
        "    max_len = max(len(w) for w in arabic_names)\n",
        "\n",
        "    print(f'Number of names: {num_names}')\n",
        "    print(f'Shortest name length: {min_len}')\n",
        "    print(f'Longest name length: {max_len}')\n",
        "else:\n",
        "    print('Cannot calculate statistics as no names were loaded.')"
      ]
    },
    {
      "cell_type": "markdown",
      "metadata": {
        "id": "jurtNYcteJtR"
      },
      "source": [
        "### 3. Bigram Analysis (Optional)\n",
        "\n",
        "While our model will learn patterns directly, looking at bigrams (pairs of adjacent characters) can give us insights into the data. We count how often each character follows another, including special start (`<S>`) and end (`<E>`) tokens."
      ]
    },
    {
      "cell_type": "code",
      "execution_count": 9,
      "metadata": {
        "colab": {
          "base_uri": "https://localhost:8080/"
        },
        "id": "djL_8NyReJtR",
        "outputId": "6e640ac1-b66e-4f63-8331-2a73b8a591c2"
      },
      "outputs": [
        {
          "output_type": "stream",
          "name": "stdout",
          "text": [
            "Top 20 most frequent bigrams:\n",
            "[(('ة', '<E>'), 96), (('<S>', 'ب'), 53), (('ن', '<E>'), 48), (('ر', '<E>'), 42), (('<S>', 'أ'), 42), (('ا', 'ن'), 41), (('د', '<E>'), 39), (('<S>', 'ح'), 38), (('ي', '<E>'), 37), (('<S>', 'م'), 36), (('ل', '<E>'), 31), (('م', '<E>'), 31), (('<S>', 'ر'), 30), (('ا', 'ل'), 28), (('<S>', 'ت'), 27), (('ي', 'ة'), 26), (('ر', 'ا'), 26), (('ا', 'م'), 26), (('ا', 'ء'), 25), (('ء', '<E>'), 24)]\n"
          ]
        }
      ],
      "source": [
        "# Dictionary to store bigram counts\n",
        "bigram_counts = {}\n",
        "\n",
        "# Iterate through each name if available\n",
        "if arabic_names:\n",
        "    for name in arabic_names:\n",
        "      # Add start and end tokens\n",
        "      chars = ['<S>'] + list(name) + ['<E>']\n",
        "      # Create bigrams and count them\n",
        "      for ch1, ch2 in zip(chars, chars[1:]):\n",
        "        bigram = (ch1, ch2)\n",
        "        bigram_counts[bigram] = bigram_counts.get(bigram, 0) + 1\n",
        "\n",
        "    # Sort bigrams by frequency (most common first)\n",
        "    sorted_bigrams = sorted(bigram_counts.items(), key=lambda kv: -kv[1])\n",
        "\n",
        "    # Display the top 20 most frequent bigrams\n",
        "    print(\"Top 20 most frequent bigrams:\")\n",
        "    print(sorted_bigrams[:20])\n",
        "else:\n",
        "    print('Cannot perform bigram analysis as no names were loaded.')"
      ]
    },
    {
      "cell_type": "markdown",
      "metadata": {
        "id": "o_peyeeXeJtR"
      },
      "source": [
        "### 4. Preparing Data for PyTorch\n",
        "\n",
        "We need to convert our names into numerical representations that PyTorch can understand. We'll create mappings from characters to integers (`stoi`) and vice-versa (`itos`). We also define a special character `'.'` to represent both start and end, simplifying the input structure for the neural network."
      ]
    },
    {
      "cell_type": "code",
      "execution_count": 11,
      "metadata": {
        "colab": {
          "base_uri": "https://localhost:8080/"
        },
        "id": "zn6uvzVseJtR",
        "outputId": "7e68c8b2-069d-46ea-ab67-195f33c76cb8"
      },
      "outputs": [
        {
          "output_type": "stream",
          "name": "stdout",
          "text": [
            "Vocabulary size: 38\n",
            "Character to index mapping (stoi): {' ': 1, 'ء': 2, 'آ': 3, 'أ': 4, 'ؤ': 5, 'إ': 6, 'ئ': 7, 'ا': 8, 'ب': 9, 'ة': 10, 'ت': 11, 'ث': 12, 'ج': 13, 'ح': 14, 'خ': 15, 'د': 16, 'ذ': 17, 'ر': 18, 'ز': 19, 'س': 20, 'ش': 21, 'ص': 22, 'ض': 23, 'ط': 24, 'ظ': 25, 'ع': 26, 'غ': 27, 'ف': 28, 'ق': 29, 'ك': 30, 'ل': 31, 'م': 32, 'ن': 33, 'ه': 34, 'و': 35, 'ى': 36, 'ي': 37, '.': 0}\n",
            "Index to character mapping (itos): {1: ' ', 2: 'ء', 3: 'آ', 4: 'أ', 5: 'ؤ', 6: 'إ', 7: 'ئ', 8: 'ا', 9: 'ب', 10: 'ة', 11: 'ت', 12: 'ث', 13: 'ج', 14: 'ح', 15: 'خ', 16: 'د', 17: 'ذ', 18: 'ر', 19: 'ز', 20: 'س', 21: 'ش', 22: 'ص', 23: 'ض', 24: 'ط', 25: 'ظ', 26: 'ع', 27: 'غ', 28: 'ف', 29: 'ق', 30: 'ك', 31: 'ل', 32: 'م', 33: 'ن', 34: 'ه', 35: 'و', 36: 'ى', 37: 'ي', 0: '.'}\n",
            "Dataset shape: X=torch.Size([2432]), Y=torch.Size([2432])\n"
          ]
        }
      ],
      "source": [
        "# Initialize variables to avoid potential errors if names are not loaded\n",
        "stoi = {}\n",
        "itos = {}\n",
        "vocab_size = 0\n",
        "X_train, Y_train = torch.tensor([]), torch.tensor([])\n",
        "\n",
        "if arabic_names:\n",
        "    # Get all unique characters in the dataset\n",
        "    chars = sorted(list(set(''.join(arabic_names))))\n",
        "\n",
        "    # Create character-to-integer and integer-to-character mappings\n",
        "    # Add a special '.' token for start/end\n",
        "    stoi = {s: i + 1 for i, s in enumerate(chars)}\n",
        "    stoi['.'] = 0  # Use '.' for both <S> and <E> mapping\n",
        "    itos = {i: s for s, i in stoi.items()}\n",
        "\n",
        "    vocab_size = len(itos)\n",
        "\n",
        "    print(f'Vocabulary size: {vocab_size}')\n",
        "    print(f'Character to index mapping (stoi): {stoi}')\n",
        "    print(f'Index to character mapping (itos): {itos}')\n",
        "\n",
        "    # Build the dataset of input (character) -> target (next character)\n",
        "    def build_dataset(names):\n",
        "        X, Y = [], [] # X = input character index, Y = target character index\n",
        "        for w in names:\n",
        "            context = [0] # Start with the '.' token index\n",
        "            for ch in w + '.': # Append '.' to represent the end\n",
        "                ix = stoi[ch]\n",
        "                X.append(context[0]) # Input is the single preceding character\n",
        "                Y.append(ix)       # Target is the current character\n",
        "                context = [ix] # Update context (not really needed for bigram, but good practice)\n",
        "        X = torch.tensor(X)\n",
        "        Y = torch.tensor(Y)\n",
        "        print(f'Dataset shape: X={X.shape}, Y={Y.shape}')\n",
        "        return X, Y\n",
        "\n",
        "    # Create training set\n",
        "    X_train, Y_train = build_dataset(arabic_names)\n",
        "else:\n",
        "    print('Cannot prepare data for PyTorch as no names were loaded.')"
      ]
    },
    {
      "cell_type": "markdown",
      "metadata": {
        "id": "-QfPMYVDeJtR"
      },
      "source": [
        "### 5. Neural Network Model Definition\n",
        "\n",
        "We define a simple neural network using PyTorch's `nn.Module`. This model consists of:\n",
        "1. An Embedding layer: Converts character indices into dense vectors.\n",
        "2. A Linear layer: Maps the embedding vector to logits representing the probability distribution over the next possible character."
      ]
    },
    {
      "cell_type": "code",
      "execution_count": 12,
      "metadata": {
        "colab": {
          "base_uri": "https://localhost:8080/"
        },
        "id": "lS6LDBI7eJtR",
        "outputId": "cd882538-fc89-48a6-c96d-ac2d4ada2cf9"
      },
      "outputs": [
        {
          "output_type": "stream",
          "name": "stdout",
          "text": [
            "Model initialized with 1558 parameters.\n"
          ]
        }
      ],
      "source": [
        "# Define the neural network model\n",
        "class BigramModel(torch.nn.Module):\n",
        "    def __init__(self, vocab_size, embedding_dim=10): # Using a small embedding dimension\n",
        "        super().__init__()\n",
        "        # Embedding layer: maps character index to a vector\n",
        "        self.embedding = torch.nn.Embedding(vocab_size, embedding_dim)\n",
        "        # Linear layer: maps embedding vector to output logits\n",
        "        self.linear = torch.nn.Linear(embedding_dim, vocab_size)\n",
        "\n",
        "    def forward(self, idx):\n",
        "        # Get embeddings for the input character indices\n",
        "        emb = self.embedding(idx)\n",
        "        # Pass embeddings through the linear layer to get logits\n",
        "        logits = self.linear(emb)\n",
        "        return logits\n",
        "\n",
        "# Initialize the model only if vocab_size is valid\n",
        "model = None\n",
        "if vocab_size > 0:\n",
        "    embedding_dimension = 20 # Can be tuned\n",
        "    model = BigramModel(vocab_size, embedding_dim=embedding_dimension)\n",
        "    print(f'Model initialized with {sum(p.numel() for p in model.parameters())} parameters.')\n",
        "else:\n",
        "    print('Model cannot be initialized as vocabulary size is zero.')"
      ]
    },
    {
      "cell_type": "markdown",
      "metadata": {
        "id": "HRlHuax1eJtR"
      },
      "source": [
        "### 6. Model Training\n",
        "\n",
        "Now we train the model using the dataset we prepared. We use the Adam optimizer and Cross-Entropy Loss. We'll train for a number of epochs, periodically evaluating and printing the loss."
      ]
    },
    {
      "cell_type": "code",
      "execution_count": 14,
      "metadata": {
        "colab": {
          "base_uri": "https://localhost:8080/",
          "height": 707
        },
        "id": "qsv5lDtreJtR",
        "outputId": "0d619eaa-ff46-4d90-b894-391d2b7ee94d"
      },
      "outputs": [
        {
          "output_type": "stream",
          "name": "stdout",
          "text": [
            "Starting training for 500 epochs...\n",
            "Epoch 50/500, Loss: 2.4886\n",
            "Epoch 100/500, Loss: 2.5001\n",
            "Epoch 150/500, Loss: 2.4679\n",
            "Epoch 200/500, Loss: 2.6309\n",
            "Epoch 250/500, Loss: 2.8273\n",
            "Epoch 300/500, Loss: 2.6589\n",
            "Epoch 350/500, Loss: 2.5376\n",
            "Epoch 400/500, Loss: 2.5998\n",
            "Epoch 450/500, Loss: 2.5078\n",
            "Epoch 500/500, Loss: 2.6612\n",
            "Training finished.\n"
          ]
        },
        {
          "output_type": "display_data",
          "data": {
            "text/plain": [
              "<Figure size 1000x500 with 1 Axes>"
            ],
            "image/png": "[encoded data removed]"
          },
          "metadata": {}
        }
      ],
      "source": [
        "# Training parameters\n",
        "learning_rate = 0.1 # Adjusted learning rate\n",
        "num_epochs = 500    # Increased epochs for potentially better convergence\n",
        "batch_size = 128    # Process data in batches\n",
        "report_interval = 50 # How often to print loss\n",
        "\n",
        "# List to store loss values for plotting\n",
        "losses = []\n",
        "\n",
        "# Proceed with training only if model and data are ready\n",
        "if model and X_train.nelement() > 0:\n",
        "    # Optimizer\n",
        "    optimizer = torch.optim.AdamW(model.parameters(), lr=learning_rate)\n",
        "\n",
        "    print(f'Starting training for {num_epochs} epochs...')\n",
        "\n",
        "    for epoch in range(num_epochs):\n",
        "        # Create mini-batches\n",
        "        ix = torch.randint(0, X_train.shape[0], (batch_size,))\n",
        "        Xb, Yb = X_train[ix], Y_train[ix] # Batch X, Y\n",
        "\n",
        "        # Forward pass\n",
        "        logits = model(Xb)\n",
        "\n",
        "        # Calculate loss (CrossEntropyLoss expects logits)\n",
        "        loss = F.cross_entropy(logits, Yb)\n",
        "\n",
        "        # Backward pass and optimization\n",
        "        optimizer.zero_grad() # Zero gradients\n",
        "        loss.backward()     # Compute gradients\n",
        "        optimizer.step()      # Update parameters\n",
        "\n",
        "        # Track loss\n",
        "        losses.append(loss.item())\n",
        "\n",
        "        # Print progress\n",
        "        if (epoch + 1) % report_interval == 0:\n",
        "            print(f'Epoch {epoch+1}/{num_epochs}, Loss: {loss.item():.4f}')\n",
        "\n",
        "    print('Training finished.')\n",
        "\n",
        "    # Plot the loss curve\n",
        "    plt.figure(figsize=(10, 5))\n",
        "    plt.plot(losses)\n",
        "    plt.title('Training Loss Over Epochs')\n",
        "    plt.xlabel('Epoch')\n",
        "    plt.ylabel('Cross-Entropy Loss')\n",
        "    plt.grid(True)\n",
        "    plt.show()\n",
        "else:\n",
        "    print('Training cannot start. Check if data was loaded and model was initialized.')"
      ]
    },
    {
      "cell_type": "markdown",
      "metadata": {
        "id": "jFkCpHfNeJtR"
      },
      "source": [
        "### 7. Generating New Names\n",
        "\n",
        "With the trained model, we can now generate new Arabic names. We start with the special start token `'.'` and iteratively predict the next character based on the model's output probabilities until the end token `'.'` is generated."
      ]
    },
    {
      "cell_type": "code",
      "execution_count": 19,
      "metadata": {
        "colab": {
          "base_uri": "https://localhost:8080/"
        },
        "id": "qDpWpxLeeJtR",
        "outputId": "fb1a430c-e75c-4f7c-d761-d15578cebe15"
      },
      "outputs": [
        {
          "output_type": "stream",
          "name": "stdout",
          "text": [
            "Generating 15 Arabic names:\n",
            "1. عبلانيد\n",
            "2. حورواء\n",
            "3. مى\n",
            "4. ر\n",
            "5. هر\n",
            "6. ر\n",
            "7. بدوريدويديدودالية\n",
            "8. حمار\n",
            "9. بليلي\n",
            "11. جالاسن\n",
            "12. حور\n",
            "13. هومى\n",
            "14. حم\n",
            "15. ل\n"
          ]
        }
      ],
      "source": [
        "# Function to generate names\n",
        "def generate_name(model, itos, stoi, max_len=20):\n",
        "    if not model or not itos or not stoi:\n",
        "        print(\"Cannot generate name. Model or mappings not available.\")\n",
        "        return \"\"\n",
        "\n",
        "    model.eval() # Set model to evaluation mode\n",
        "    name_chars = []\n",
        "    context_idx = stoi['.'] # Start with the '.' token index\n",
        "\n",
        "    with torch.no_grad(): # No need to track gradients during generation\n",
        "        for _ in range(max_len):\n",
        "            # Prepare input tensor (add batch dimension)\n",
        "            input_tensor = torch.tensor([context_idx])\n",
        "\n",
        "            # Forward pass to get logits\n",
        "            logits = model(input_tensor)\n",
        "\n",
        "            # Convert logits to probabilities using softmax\n",
        "            probs = F.softmax(logits, dim=1)\n",
        "\n",
        "            # Sample the next character index based on probabilities\n",
        "            next_idx = torch.multinomial(probs, num_samples=1).item()\n",
        "\n",
        "            # Check if the end token is generated\n",
        "            if next_idx == stoi['.']:\n",
        "                break\n",
        "\n",
        "            # Append the generated character\n",
        "            name_chars.append(itos[next_idx])\n",
        "\n",
        "            # Update the context for the next iteration\n",
        "            context_idx = next_idx\n",
        "\n",
        "    model.train() # Set model back to training mode\n",
        "    return ''.join(name_chars)\n",
        "\n",
        "# Generate some names if the model is available\n",
        "if model:\n",
        "    num_generated_names = 15\n",
        "    print(f'Generating {num_generated_names} Arabic names:')\n",
        "    for i in range(num_generated_names):\n",
        "        generated = generate_name(model, itos, stoi)\n",
        "        if generated: # Print only if generation was successful\n",
        "            print(f'{i+1}. {generated}')\n",
        "else:\n",
        "    print('Cannot generate names as the model was not trained.')"
      ]
    },
    {
      "cell_type": "markdown",
      "metadata": {
        "id": "sbBrho_jeJtR"
      },
      "source": [
        "### 8. Conclusion\n",
        "\n",
        "This notebook demonstrated building and training a simple character-level neural network using PyTorch to generate Arabic names. By training on a list of existing names, the model learns sequential character patterns and can produce new, plausible-sounding names. The quality and diversity of generated names depend on the dataset size, model complexity, and training hyperparameters. This approach can be extended with more complex models (like RNNs or LSTMs) or larger datasets for improved results."
      ]
    }
  ],
  "metadata": {
    "kernelspec": {
      "display_name": "Python 3",
      "language": "python",
      "name": "python3"
    },
    "language_info": {
      "codemirror_mode": {
        "name": "ipython",
        "version": 3
      },
      "file_extension": ".py",
      "mimetype": "text/x-python",
      "name": "python",
      "nbconvert_exporter": "python",
      "pygments_lexer": "ipython3",
      "version": "3.11.0rc1"
    },
    "colab": {
      "provenance": []
    }
  },
  "nbformat": 4,
  "nbformat_minor": 0
}